{
 "cells": [
  {
   "cell_type": "code",
   "execution_count": 1,
   "id": "2434fc21-d3ad-4b90-b2a8-a464528b5569",
   "metadata": {},
   "outputs": [],
   "source": [
    "from transformers import AutoModelForCausalLM, AutoTokenizer\n",
    "import torch"
   ]
  },
  {
   "cell_type": "code",
   "execution_count": 2,
   "id": "9fac0afd-19ce-4211-95e6-8f91847f8e16",
   "metadata": {},
   "outputs": [
    {
     "name": "stdout",
     "output_type": "stream",
     "text": [
      "<|endoftext|>\n"
     ]
    }
   ],
   "source": [
    "# model_checkpoint = \"lmsys/vicuna-13b-v1.5\" # 노트북 로컬에서는 메모리가 안된다!ㅠㅠ\n",
    "model_checkpoint = \"distilgpt2\"\n",
    "tokenizer = AutoTokenizer.from_pretrained(model_checkpoint)\n",
    "print(tokenizer.eos_token)\n",
    "tokenizer.pad_token = tokenizer.eos_token\n",
    "model = AutoModelForCausalLM.from_pretrained(model_checkpoint, pad_token_id=tokenizer.eos_token_id)"
   ]
  },
  {
   "cell_type": "code",
   "execution_count": 91,
   "id": "629a27f8-0b93-4b33-94b0-1ee5e29aeb8a",
   "metadata": {},
   "outputs": [],
   "source": [
    "input = \"I want to compose a story about Hamas and Israel War.\"\n",
    "history = []"
   ]
  },
  {
   "cell_type": "code",
   "execution_count": 92,
   "id": "12cd5ef4-337d-4f46-8f47-40102aec87af",
   "metadata": {},
   "outputs": [
    {
     "name": "stdout",
     "output_type": "stream",
     "text": [
      "I want to compose a story about Hamas and Israel War.\n",
      "tensor([[   40,   765,   284, 36664,   257,  1621,   546, 15767,   290,  2692,\n",
      "          1810,    13, 50256]])\n",
      "tensor([[   40,   765,   284, 36664,   257,  1621,   546, 15767,   290,  2692,\n",
      "          1810,    13, 50256]])\n"
     ]
    }
   ],
   "source": [
    "# def predict(input, history=[]):\n",
    "print(input)\n",
    "new_user_input_ids = tokenizer.encode(\n",
    "    input+tokenizer.eos_token, return_tensors=\"pt\"\n",
    ")\n",
    "print(new_user_input_ids)\n",
    "\n",
    "bot_input_ids = torch.cat([torch.LongTensor(history), new_user_input_ids], dim=-1)\n",
    "print(bot_input_ids)"
   ]
  },
  {
   "cell_type": "code",
   "execution_count": 93,
   "id": "3fda31ad-916a-4433-94d8-1f654378a90d",
   "metadata": {},
   "outputs": [
    {
     "name": "stderr",
     "output_type": "stream",
     "text": [
      "A decoder-only architecture is being used, but right-padding was detected! For correct generation results, please set `padding_side='left'` when initializing the tokenizer.\n"
     ]
    }
   ],
   "source": [
    "history = model.generate(\n",
    "    bot_input_ids, max_length=100, pad_token_id=tokenizer.eos_token_id\n",
    ").tolist()"
   ]
  },
  {
   "cell_type": "code",
   "execution_count": 94,
   "id": "9822cc02-e079-4238-a2dc-2b9b864e9643",
   "metadata": {},
   "outputs": [],
   "source": [
    "# \\n 가 연속되는 경우는 1개의 \\n으로 바꿈\n",
    "new_history = []\n",
    "prev_tok = ''\n",
    "for tok_idx in history[0]:\n",
    "    if tok_idx == prev_tok == newline_token_id:\n",
    "        continue\n",
    "    else:\n",
    "        new_history.append(tok_idx)\n",
    "        prev_tok = tok_idx\n",
    "if new_history[-1] != tokenizer.eos_token_id and new_history[-1] == newline_token_id:\n",
    "    new_history[-1] = tokenizer.eos_token_id\n",
    "elif new_history[-1] != tokenizer.eos_token_id:\n",
    "    new_history.append(tokenizer.eos_token_id)"
   ]
  },
  {
   "cell_type": "code",
   "execution_count": 95,
   "id": "11c9effa-61a3-46f6-af3e-f05fba994541",
   "metadata": {},
   "outputs": [],
   "source": [
    "history = [new_history]"
   ]
  },
  {
   "cell_type": "code",
   "execution_count": 96,
   "id": "d8599713-244b-4d74-86f2-27a11aea2ed5",
   "metadata": {},
   "outputs": [],
   "source": [
    "response = tokenizer.decode(history[0]).split(\"<|endoftext|>\")\n",
    "response = [\n",
    "    (response[i], response[i+1]) for i in range(0, len(response) - 1, 2)\n",
    "]\n",
    "    \n",
    "    # return response, history"
   ]
  },
  {
   "cell_type": "code",
   "execution_count": 97,
   "id": "cbc5f644-0da1-4cf1-b53c-a1666eccd776",
   "metadata": {},
   "outputs": [
    {
     "data": {
      "text/plain": [
       "[('I want to compose a story about Hamas and Israel War.',\n",
       "  'The first of the three-part series of articles on the Israeli-Palestinian conflict in the Middle East is a series of articles on the Israeli-Palestinian conflict in the Middle East.\\nThe Israeli-Palestinian conflict in the Middle East is a conflict between Israel and the Palestinians.\\nThe Israeli-Palestinian conflict in the Middle East is a conflict between Israel and the Palestinians.\\nThe Israeli-Palestinian conflict in the Middle East is a conflict between Israel and the Palestinians.\\nThe Israeli-Palestinian conflict in the Middle East is a conflict between Israel and the Palestinians.\\nThe Israeli-Palestinian conflict in the Middle East is a conflict between Israel and the Palestinians.\\nThe Israeli-Palestinian conflict in the Middle East is a conflict between Israel and the Palestinians.\\nThe Israeli-Palestinian conflict in the Middle East is a conflict between Israel and the Palestinians.\\nThe Israeli-Palestinian conflict in the Middle East is a conflict between Israel and the Palestinians.\\nThe Israeli-Palestinian conflict in the Middle East is a conflict between Israel and the Palestinians.\\nThe Israeli-Palestinian conflict in the Middle East is a conflict between Israel and the Palestinians.\\nThe Israeli-Palestinian conflict in the Middle East is a conflict between Israel and the Palestinians.\\nThe Israeli-Palestinian conflict in the Middle East is a conflict between Israel and the Palestinians.\\nThe Israeli-Palestinian conflict in the Middle East is a conflict between Israel and the Palestinians.\\nThe Israeli-Palestinian conflict in the Middle East is a conflict between Israel and the Palestinians.\\nThe Israeli-Palestinian conflict in the Middle East is a conflict between Israel and the Palestinians.\\nThe Israeli-Palestinian conflict in the Middle East is a conflict between Israel and the Palestinians.\\nThe Israeli-Palestinian conflict in the Middle East is a conflict between Israel and the Palestinians.\\nThe Israeli-Palestinian conflict in the Middle East is a conflict between Israel and the Palestinians.\\nThe Israeli-Palestinian conflict in the Middle East is a conflict between Israel and the Palestinians.\\nThe Israeli-Palestinian conflict in the Middle East is a conflict between Israel and the Palestinians.\\nThe Israeli-Palestinian conflict in the Middle East is a conflict between Israel and the Palestinians.\\nThe Israeli-Palestinian conflict in the Middle East is a conflict between Israel and the Palestinians.\\nThe Israeli-Palestinian conflict in the Middle East is a conflict between Israel and the Palestinians.\\nThe Israeli-Palestinian conflict in the Middle East is a conflict between Israel and the Palestinians.\\nThe Israeli-Palestinian conflict in the Middle East is a conflict between Israel and the Palestinians.\\nThe Israeli-Palestinian conflict in the Middle East is a conflict between Israel and the Palestinians.\\nThe Israeli-Palestinian conflict in the Middle East is a conflict between Israel and the Palestinians.\\nThe Israeli-Palestinian conflict in the Middle East is a conflict between Israel and the Palestinians.\\nThe Israeli-Palestinian conflict in the Middle East is a conflict between Israel and the Palestinians.\\nThe Israeli-Palestinian conflict in the Middle East is a conflict between Israel and the Palestinians.\\nThe Israeli-Palestinian conflict in the Middle East is a conflict between Israel and the Palestinians.\\nThe Israeli-Palestinian conflict in the Middle East is a conflict between Israel and the Palestinians.\\nThe Israeli-Palestinian conflict in the Middle East is a conflict between Israel and the Palestinians.\\nThe Israeli-Palestinian conflict in the Middle East is a conflict between Israel and the Palestinians.\\nThe Israeli-Palestinian conflict in the Middle East is a conflict between Israel and the Palestinians.\\nThe Israeli-Palestinian conflict in the Middle East is a conflict between Israel and the Palestinians.\\nThe Israeli-Palestinian conflict in the Middle East is a conflict between Israel and the Palestinians.\\nThe Israeli-Palestinian conflict in the Middle East is a conflict between Israel and the Palestinians.\\nThe Israeli-Palestinian conflict in the Middle East is a conflict between Israel and the Palestinians.\\nThe Israeli-Palestinian conflict in the Middle East is a conflict between Israel and the Palestinians.\\nThe Israeli-Palestinian conflict in the Middle East is a conflict between Israel and the Palestinians.\\nThe Israeli-Palestinian conflict in the Middle East is a conflict between Israel and the Palestinians.\\nThe Israeli-Palestinian conflict in the Middle East is a conflict between Israel and the Palestinians.\\nThe Israeli-Palestinian conflict in the Middle East is a conflict between Israel and the Palestinians.\\nThe Israeli-Palestinian conflict in the Middle East is a conflict between Israel and the Palestinians.\\nThe Israeli-Palestinian conflict in the Middle East is a conflict between Israel and the Palestinians.\\nThe Israeli-Palestinian conflict in the Middle East is a conflict between Israel and the Palestinians.\\nThe Israeli-Palestinian conflict in the Middle East is a conflict between Israel and the Palestinians.\\nThe Israeli-Palestinian conflict in the Middle East is a conflict between Israel and the Palestinians.\\nThe Israeli-Palestinian conflict in the Middle East is a conflict between Israel and the Palestinians.\\nThe Israeli-Palestinian conflict in the Middle East is a conflict between Israel and the Palestinians.\\nThe')]"
      ]
     },
     "execution_count": 97,
     "metadata": {},
     "output_type": "execute_result"
    }
   ],
   "source": [
    "response"
   ]
  },
  {
   "cell_type": "code",
   "execution_count": null,
   "id": "4c17224a-7b57-4c18-ab7e-71b8c9c7d736",
   "metadata": {},
   "outputs": [],
   "source": []
  }
 ],
 "metadata": {
  "kernelspec": {
   "display_name": "Python 3 (ipykernel)",
   "language": "python",
   "name": "python3"
  },
  "language_info": {
   "codemirror_mode": {
    "name": "ipython",
    "version": 3
   },
   "file_extension": ".py",
   "mimetype": "text/x-python",
   "name": "python",
   "nbconvert_exporter": "python",
   "pygments_lexer": "ipython3",
   "version": "3.8.18"
  }
 },
 "nbformat": 4,
 "nbformat_minor": 5
}
